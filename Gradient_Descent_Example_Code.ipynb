{
 "cells": [
  {
   "cell_type": "markdown",
   "metadata": {},
   "source": [
    "### In this workbook I will take a dummy obj function along with some constraints and try to optimize using gradient descent"
   ]
  },
  {
   "cell_type": "markdown",
   "metadata": {},
   "source": [
    "#### Download data is available on https://archive.ics.uci.edu/ml/datasets/Air+Quality"
   ]
  },
  {
   "cell_type": "code",
   "execution_count": null,
   "metadata": {},
   "outputs": [],
   "source": [
    "## First, lets import libs\n",
    "\n",
    "import numpy as np\n",
    "import scipy \n",
    "import random\n",
    "import math\n",
    "\n",
    "# Matplotlib is the python plotting library and folks generally import it as \"plt\"\n",
    "import matplotlib.pyplot as plt \n",
    "\n",
    "# Seaborn is a wrapper for Matplotlib and makes some things easier, generally imported as \"sns\"\n",
    "import seaborn as sns \n",
    "import pandas as pd"
   ]
  },
  {
   "cell_type": "code",
   "execution_count": null,
   "metadata": {},
   "outputs": [],
   "source": [
    "### lets first generate some random data for processing\n",
    "\n",
    "data = pd.read_csv('C:/Users/rajneesh.tiwari/Downloads/AirQualityUCI/AirQualityUCI.csv', sep=\";\")\n",
    "data.head(5)"
   ]
  },
  {
   "cell_type": "markdown",
   "metadata": {},
   "source": [
    "### lets just consider s2 and Nox concentrations"
   ]
  },
  {
   "cell_type": "code",
   "execution_count": null,
   "metadata": {
    "collapsed": true
   },
   "outputs": [],
   "source": [
    "## we will only consider 2 cols for demo purpose\n",
    "\n",
    "data_refined = data.loc[:,['PT08.S1(CO)','NOx(GT)']]"
   ]
  },
  {
   "cell_type": "code",
   "execution_count": null,
   "metadata": {},
   "outputs": [],
   "source": [
    "## plot the data\n",
    "plt.plot(data_refined.iloc[:,0],data_refined.iloc[:,1], \"o\")\n",
    "plt.show()"
   ]
  },
  {
   "cell_type": "code",
   "execution_count": null,
   "metadata": {},
   "outputs": [],
   "source": [
    "# getting rid of negatives in the data -- some error here\n",
    "data_refined = data_refined.loc[(data_refined['PT08.S1(CO)']>0) & (data_refined['NOx(GT)']>0)]"
   ]
  },
  {
   "cell_type": "code",
   "execution_count": null,
   "metadata": {
    "scrolled": true
   },
   "outputs": [],
   "source": [
    "## plot the data\n",
    "plt.plot(data_refined.iloc[:,0],data_refined.iloc[:,1], \"o\")\n",
    "plt.show()"
   ]
  },
  {
   "cell_type": "code",
   "execution_count": null,
   "metadata": {},
   "outputs": [],
   "source": [
    "### above looks like linear regression"
   ]
  },
  {
   "cell_type": "code",
   "execution_count": null,
   "metadata": {},
   "outputs": [],
   "source": [
    "## add intercept term\n",
    "data_refined['intercept'] = 1"
   ]
  },
  {
   "cell_type": "code",
   "execution_count": null,
   "metadata": {},
   "outputs": [],
   "source": [
    "def gradientDescent(x, y, theta, lr, m, numIterations):\n",
    "    xTrans = x.transpose()\n",
    "    cost_array = []\n",
    "    \n",
    "    for i in range(0, numIterations):\n",
    "        hypothesis = np.dot(x, theta)\n",
    "        loss = hypothesis - y\n",
    "        cost = np.sum(loss ** 2) / (2 * m)\n",
    "        gradient = np.dot(xTrans, loss) / m\n",
    "        theta = theta - lr * gradient\n",
    "        print(\"Iteration %d | Cost: %f\"  % (i, cost))\n",
    "        cost_array.append(cost)\n",
    "        \n",
    "    return theta,cost_array"
   ]
  },
  {
   "cell_type": "code",
   "execution_count": null,
   "metadata": {},
   "outputs": [],
   "source": [
    "### data with intercept term\n",
    "x = np.array(data_refined.loc[:,('intercept','PT08.S1(CO)')])\n",
    "y = np.array(data_refined.iloc[:,1])"
   ]
  },
  {
   "cell_type": "code",
   "execution_count": null,
   "metadata": {},
   "outputs": [],
   "source": [
    "### setup parms and run grad desc\n",
    "\n",
    "m, n = np.shape(x)\n",
    "numIterations= 1000\n",
    "lr = 0.000000001\n",
    "theta = np.zeros(n)  #### there are better ways of initializing theta, but we will do simple stuf for now\n",
    "theta,cost_array = gradientDescent(x, y, theta, lr, m, numIterations)"
   ]
  },
  {
   "cell_type": "code",
   "execution_count": null,
   "metadata": {},
   "outputs": [],
   "source": [
    "### plot iterations vs cost; this should go down rapidly\n",
    "\n",
    "plt.plot(np.arange(numIterations),cost_array)\n",
    "plt.ylabel('cost')\n",
    "plt.xlabel('iterations')\n",
    "plt.show()"
   ]
  }
 ],
 "metadata": {
  "kernelspec": {
   "display_name": "Python 3",
   "language": "python",
   "name": "python3"
  },
  "language_info": {
   "codemirror_mode": {
    "name": "ipython",
    "version": 3
   },
   "file_extension": ".py",
   "mimetype": "text/x-python",
   "name": "python",
   "nbconvert_exporter": "python",
   "pygments_lexer": "ipython3",
   "version": "3.5.3"
  }
 },
 "nbformat": 4,
 "nbformat_minor": 2
}
